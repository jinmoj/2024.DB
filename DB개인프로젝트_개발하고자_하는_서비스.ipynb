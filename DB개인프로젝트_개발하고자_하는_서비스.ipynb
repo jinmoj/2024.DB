{
  "nbformat": 4,
  "nbformat_minor": 0,
  "metadata": {
    "colab": {
      "provenance": [],
      "authorship_tag": "ABX9TyMcHC5aqPBxOK8HTicOh38Q",
      "include_colab_link": true
    },
    "kernelspec": {
      "name": "python3",
      "display_name": "Python 3"
    },
    "language_info": {
      "name": "python"
    }
  },
  "cells": [
    {
      "cell_type": "markdown",
      "metadata": {
        "id": "view-in-github",
        "colab_type": "text"
      },
      "source": [
        "<a href=\"https://colab.research.google.com/github/jinmoj/2024.DB/blob/main/DB%EA%B0%9C%EC%9D%B8%ED%94%84%EB%A1%9C%EC%A0%9D%ED%8A%B8_%EA%B0%9C%EB%B0%9C%ED%95%98%EA%B3%A0%EC%9E%90_%ED%95%98%EB%8A%94_%EC%84%9C%EB%B9%84%EC%8A%A4.ipynb\" target=\"_parent\"><img src=\"https://colab.research.google.com/assets/colab-badge.svg\" alt=\"Open In Colab\"/></a>"
      ]
    },
    {
      "cell_type": "code",
      "execution_count": 2,
      "metadata": {
        "id": "DFWgQcCP7sYf"
      },
      "outputs": [],
      "source": [
        "import sqlite3"
      ]
    },
    {
      "cell_type": "code",
      "source": [
        "conn = sqlite3.connect('shopping_app.db')\n",
        "cursor = conn.cursor()"
      ],
      "metadata": {
        "id": "XkvsSdz_71qT"
      },
      "execution_count": 3,
      "outputs": []
    },
    {
      "cell_type": "code",
      "source": [
        "cursor.execute('DROP TABLE IF EXISTS 사용자')"
      ],
      "metadata": {
        "colab": {
          "base_uri": "https://localhost:8080/"
        },
        "id": "qBzTVjmVSNgL",
        "outputId": "90aba6b9-4a38-44bf-caf5-39c95f7fd3c8"
      },
      "execution_count": 4,
      "outputs": [
        {
          "output_type": "execute_result",
          "data": {
            "text/plain": [
              "<sqlite3.Cursor at 0x7a5f405cb940>"
            ]
          },
          "metadata": {},
          "execution_count": 4
        }
      ]
    },
    {
      "cell_type": "code",
      "source": [
        "cursor.execute('DROP TABLE IF EXISTS 상품')"
      ],
      "metadata": {
        "colab": {
          "base_uri": "https://localhost:8080/"
        },
        "id": "xbEx0zezSNUw",
        "outputId": "c79d569b-4cab-4e86-a40d-c72446f29f6e"
      },
      "execution_count": 5,
      "outputs": [
        {
          "output_type": "execute_result",
          "data": {
            "text/plain": [
              "<sqlite3.Cursor at 0x7a5f405cb940>"
            ]
          },
          "metadata": {},
          "execution_count": 5
        }
      ]
    },
    {
      "cell_type": "code",
      "source": [
        "cursor.execute('DROP TABLE IF EXISTS 장바구니')"
      ],
      "metadata": {
        "colab": {
          "base_uri": "https://localhost:8080/"
        },
        "id": "T7fUw1mGSNKW",
        "outputId": "98dbc1c3-5648-48e4-d962-a3b78cc341ae"
      },
      "execution_count": 25,
      "outputs": [
        {
          "output_type": "execute_result",
          "data": {
            "text/plain": [
              "<sqlite3.Cursor at 0x7a5f405cb940>"
            ]
          },
          "metadata": {},
          "execution_count": 25
        }
      ]
    },
    {
      "cell_type": "code",
      "source": [
        "cursor.execute('DROP TABLE IF EXISTS 리뷰')"
      ],
      "metadata": {
        "colab": {
          "base_uri": "https://localhost:8080/"
        },
        "id": "RDEVDUhwSM_A",
        "outputId": "ff78013d-b236-4818-fb56-3de66ebe461e"
      },
      "execution_count": 70,
      "outputs": [
        {
          "output_type": "execute_result",
          "data": {
            "text/plain": [
              "<sqlite3.Cursor at 0x7a5f405cb940>"
            ]
          },
          "metadata": {},
          "execution_count": 70
        }
      ]
    },
    {
      "cell_type": "code",
      "source": [
        "cursor.execute('DROP TABLE IF EXISTS 제조업체')"
      ],
      "metadata": {
        "colab": {
          "base_uri": "https://localhost:8080/"
        },
        "id": "5J9OztB9PNHS",
        "outputId": "e8e7b87d-2f14-4272-dd07-f485bae54c4a"
      },
      "execution_count": 8,
      "outputs": [
        {
          "output_type": "execute_result",
          "data": {
            "text/plain": [
              "<sqlite3.Cursor at 0x7a5f405cb940>"
            ]
          },
          "metadata": {},
          "execution_count": 8
        }
      ]
    },
    {
      "cell_type": "code",
      "source": [
        "# 사용자 테이블\n",
        "cursor.execute('''\n",
        "CREATE TABLE 사용자 (\n",
        "    사용자ID  VARCHAR(20) PRIMARY KEY NOT NULL,\n",
        "    이름      VARCHAR(20) NOT NULL,\n",
        "    나이      INT NOT NULL,\n",
        "    등급      VARCHAR(20) NOT NULL\n",
        ");\n",
        "''')"
      ],
      "metadata": {
        "colab": {
          "base_uri": "https://localhost:8080/"
        },
        "id": "1WqAjUTc713O",
        "outputId": "69d9c40a-4bf3-4f2f-fa91-9e4fc1c7d309"
      },
      "execution_count": 9,
      "outputs": [
        {
          "output_type": "execute_result",
          "data": {
            "text/plain": [
              "<sqlite3.Cursor at 0x7a5f405cb940>"
            ]
          },
          "metadata": {},
          "execution_count": 9
        }
      ]
    },
    {
      "cell_type": "code",
      "source": [
        "# 상품 테이블\n",
        "cursor.execute('''\n",
        "CREATE TABLE 상품 (\n",
        "    상품ID  VARCHAR(20) PRIMARY KEY NOT NULL,\n",
        "    상품명  VARCHAR(20) NOT NULL,\n",
        "    재고량  INT NOT NULL,\n",
        "    가격    INT NOT NULL\n",
        ");\n",
        "''')"
      ],
      "metadata": {
        "colab": {
          "base_uri": "https://localhost:8080/"
        },
        "id": "jvdxqttu72AP",
        "outputId": "4cbc0575-7bc3-47e8-c65c-c43c3368ce70"
      },
      "execution_count": 10,
      "outputs": [
        {
          "output_type": "execute_result",
          "data": {
            "text/plain": [
              "<sqlite3.Cursor at 0x7a5f405cb940>"
            ]
          },
          "metadata": {},
          "execution_count": 10
        }
      ]
    },
    {
      "cell_type": "code",
      "source": [
        "# 장바구니 테이블\n",
        "cursor.execute('''\n",
        "CREATE TABLE 장바구니 (\n",
        "    장바구니ID  VARCHAR(20) PRIMARY KEY NOT NULL,\n",
        "    상품ID      VARCHAR(20) NOT NULL,\n",
        "    추가날짜   VARCHAR(20) NOT NULL,\n",
        "    FOREIGN KEY(상품ID) REFERENCES 상품(상품ID)\n",
        ");\n",
        "''')"
      ],
      "metadata": {
        "colab": {
          "base_uri": "https://localhost:8080/"
        },
        "id": "DmrtHtVB72KF",
        "outputId": "ac05e25e-d2ac-4312-d475-486f50df16d0"
      },
      "execution_count": 26,
      "outputs": [
        {
          "output_type": "execute_result",
          "data": {
            "text/plain": [
              "<sqlite3.Cursor at 0x7a5f405cb940>"
            ]
          },
          "metadata": {},
          "execution_count": 26
        }
      ]
    },
    {
      "cell_type": "code",
      "source": [
        "# 리뷰 테이블\n",
        "cursor.execute('''\n",
        "CREATE TABLE 리뷰 (\n",
        "    리뷰번호   CHAR(5) PRIMARY KEY NOT NULL,\n",
        "    작성자      VARCHAR(20) NOT NULL,\n",
        "    평점        INT NOT NULL,\n",
        "    FOREIGN KEY(작성자) REFERENCES 사용자(사용자ID)\n",
        ");\n",
        "''')"
      ],
      "metadata": {
        "colab": {
          "base_uri": "https://localhost:8080/"
        },
        "id": "aZAprZ7172WB",
        "outputId": "1e308b4c-110b-41a8-fe7a-3e782cf135b6"
      },
      "execution_count": 71,
      "outputs": [
        {
          "output_type": "execute_result",
          "data": {
            "text/plain": [
              "<sqlite3.Cursor at 0x7a5f405cb940>"
            ]
          },
          "metadata": {},
          "execution_count": 71
        }
      ]
    },
    {
      "cell_type": "code",
      "source": [
        "# 제조업체 테이블\n",
        "cursor.execute('''\n",
        "CREATE TABLE 제조업체 (\n",
        "    제조업체명  VARCHAR(20) PRIMARY KEY NOT NULL,\n",
        "    연락처      VARCHAR(20) NOT NULL,\n",
        "    주소        VARCHAR(30) NOT NULL\n",
        ");\n",
        "''')"
      ],
      "metadata": {
        "colab": {
          "base_uri": "https://localhost:8080/"
        },
        "id": "exa0oGN6-hAR",
        "outputId": "dbf02f61-355e-439d-a315-4a58c7d41035"
      },
      "execution_count": 13,
      "outputs": [
        {
          "output_type": "execute_result",
          "data": {
            "text/plain": [
              "<sqlite3.Cursor at 0x7a5f405cb940>"
            ]
          },
          "metadata": {},
          "execution_count": 13
        }
      ]
    },
    {
      "cell_type": "code",
      "source": [
        "# 사용자 데이터 삽입\n",
        "cursor.execute('''\n",
        "INSERT INTO 사용자 (사용자ID, 이름, 나이, 등급) VALUES\n",
        "    ('abc', '유병민', 25, 'silver'),\n",
        "    ('honey', '염태민', 25, 'platinum'),\n",
        "    ('free', '장지웅', 24, 'silver'),\n",
        "    ('IOT', '노정욱', 27, 'silver'),\n",
        "    ('poloc', '김수민', 24, 'gold');\n",
        "''')"
      ],
      "metadata": {
        "colab": {
          "base_uri": "https://localhost:8080/"
        },
        "id": "kFQ6ZNVo-g2y",
        "outputId": "df0ee5a7-90cf-4597-ad3f-b3e59a594949"
      },
      "execution_count": 14,
      "outputs": [
        {
          "output_type": "execute_result",
          "data": {
            "text/plain": [
              "<sqlite3.Cursor at 0x7a5f405cb940>"
            ]
          },
          "metadata": {},
          "execution_count": 14
        }
      ]
    },
    {
      "cell_type": "code",
      "source": [
        "# 상품 데이터 삽입\n",
        "cursor.execute('''\n",
        "INSERT INTO 상품 (상품ID, 상품명, 재고량, 가격) VALUES\n",
        "    ('001', '숏패딩', 50, 90000),\n",
        "    ('002', '벌룬 펜츠', 60, 45000),\n",
        "    ('003', '롱패딩', 70, 120000),\n",
        "    ('004', '니트', 80, 70000),\n",
        "    ('005', '후드티', 90, 50000);\n",
        "''')"
      ],
      "metadata": {
        "id": "p8Gxe5hp-gtz",
        "colab": {
          "base_uri": "https://localhost:8080/"
        },
        "outputId": "08971dd0-32a8-43b5-b948-946fd25e8bf4"
      },
      "execution_count": 16,
      "outputs": [
        {
          "output_type": "execute_result",
          "data": {
            "text/plain": [
              "<sqlite3.Cursor at 0x7a5f405cb940>"
            ]
          },
          "metadata": {},
          "execution_count": 16
        }
      ]
    },
    {
      "cell_type": "code",
      "source": [
        "# 장바구니 데이터 삽입\n",
        "cursor.execute('''\n",
        "INSERT INTO 장바구니 (장바구니ID, 상품ID, 추가날짜) VALUES\n",
        "    ('00a', '001', '2024.12.01.'),\n",
        "    ('00b', '002', '2024.09.13.'),\n",
        "    ('00c', '003', '2024.12.02.'),\n",
        "    ('00d', '004', '2024.11.29.'),\n",
        "    ('00e', '005', '2024.10.18.');\n",
        "''')"
      ],
      "metadata": {
        "id": "ZRiCyaaJ-gi6",
        "colab": {
          "base_uri": "https://localhost:8080/"
        },
        "outputId": "ee3c9aa7-7cdd-40a3-81f1-1226f02cc893"
      },
      "execution_count": 27,
      "outputs": [
        {
          "output_type": "execute_result",
          "data": {
            "text/plain": [
              "<sqlite3.Cursor at 0x7a5f405cb940>"
            ]
          },
          "metadata": {},
          "execution_count": 27
        }
      ]
    },
    {
      "cell_type": "code",
      "source": [
        "# 리뷰 데이터 삽입\n",
        "cursor.execute('''\n",
        "INSERT INTO 리뷰 (리뷰번호, 작성자, 평점) VALUES\n",
        "    ('00001', 'abc', 4),\n",
        "    ('00002', 'honey', 4.5),\n",
        "    ('00003', 'free', 5),\n",
        "    ('00004', 'IOT', 3.5),\n",
        "    ('00005', 'poloc', 4);\n",
        "''')"
      ],
      "metadata": {
        "id": "MASk1_NF-gOE",
        "colab": {
          "base_uri": "https://localhost:8080/"
        },
        "outputId": "b50a6bda-c966-49b8-f9d7-97a91b115eba"
      },
      "execution_count": 72,
      "outputs": [
        {
          "output_type": "execute_result",
          "data": {
            "text/plain": [
              "<sqlite3.Cursor at 0x7a5f405cb940>"
            ]
          },
          "metadata": {},
          "execution_count": 72
        }
      ]
    },
    {
      "cell_type": "code",
      "source": [
        "# 제조업체 데이터 삽입\n",
        "cursor.execute('''\n",
        "INSERT INTO 제조업체 (제조업체명, 연락처, 주소) VALUES\n",
        "    ('northface', '010-1234-****', '서울 중구 남대문로 81'),\n",
        "    ('adidas', '010-2397-****', '서울 중구 소공로 63 신세계백화점'),\n",
        "    ('NIKE', '010-1975-****', '서울 중구 퇴계로 77'),\n",
        "    ('1989', '010-0735-****', '서울 종로구 수표로 28길'),\n",
        "    ('탭탭', '010-6193-****', '서울 강남구 선릉로');\n",
        "''')"
      ],
      "metadata": {
        "colab": {
          "base_uri": "https://localhost:8080/"
        },
        "id": "GjPG42RCXGHA",
        "outputId": "554b7bd8-df21-4edf-826a-4f9ae9e8ee9e"
      },
      "execution_count": 44,
      "outputs": [
        {
          "output_type": "execute_result",
          "data": {
            "text/plain": [
              "<sqlite3.Cursor at 0x7a5f405cb940>"
            ]
          },
          "metadata": {},
          "execution_count": 44
        }
      ]
    },
    {
      "cell_type": "code",
      "source": [
        "# 데이터 확인\n",
        "cursor.execute('SELECT * FROM 사용자;')\n",
        "사용자_data = cursor.fetchall()\n",
        "\n",
        "cursor.execute('SELECT * FROM 상품;')\n",
        "상품_data = cursor.fetchall()\n",
        "\n",
        "cursor.execute('SELECT * FROM 장바구니;')\n",
        "장바구니_data = cursor.fetchall()\n",
        "\n",
        "cursor.execute('SELECT * FROM 리뷰;')\n",
        "리뷰_data = cursor.fetchall()\n",
        "\n",
        "cursor.execute('SELECT * FROM 제조업체;')\n",
        "제조업체_data = cursor.fetchall()"
      ],
      "metadata": {
        "id": "TvfAv_ZWXFzk"
      },
      "execution_count": 45,
      "outputs": []
    },
    {
      "cell_type": "code",
      "source": [
        "# 결과 출력\n",
        "for 사용자 in 사용자_data:\n",
        "    print(사용자)"
      ],
      "metadata": {
        "colab": {
          "base_uri": "https://localhost:8080/"
        },
        "id": "fp6wMkUSe_gJ",
        "outputId": "01a7f67d-f717-4b95-b201-8fa16da405c5"
      },
      "execution_count": 47,
      "outputs": [
        {
          "output_type": "stream",
          "name": "stdout",
          "text": [
            "('abc', '유병민', 25, 'silver')\n",
            "('honey', '염태민', 25, 'platinum')\n",
            "('free', '장지웅', 24, 'silver')\n",
            "('IOT', '노정욱', 27, 'silver')\n",
            "('poloc', '김수민', 24, 'gold')\n"
          ]
        }
      ]
    },
    {
      "cell_type": "code",
      "source": [
        "for 상품 in 상품_data:\n",
        "    print(상품)"
      ],
      "metadata": {
        "colab": {
          "base_uri": "https://localhost:8080/"
        },
        "id": "bajV3rEdgbz1",
        "outputId": "4497139b-c602-4000-9ecb-bd0f0b792eb5"
      },
      "execution_count": 48,
      "outputs": [
        {
          "output_type": "stream",
          "name": "stdout",
          "text": [
            "('001', '숏패딩', 50, 90000)\n",
            "('002', '벌룬 펜츠', 60, 45000)\n",
            "('003', '롱패딩', 70, 120000)\n",
            "('004', '니트', 80, 70000)\n",
            "('005', '후드티', 90, 50000)\n"
          ]
        }
      ]
    },
    {
      "cell_type": "code",
      "source": [
        "for 장바구니 in 장바구니_data:\n",
        "    print(장바구니)"
      ],
      "metadata": {
        "colab": {
          "base_uri": "https://localhost:8080/"
        },
        "id": "HnaKDe4NgbsU",
        "outputId": "7347d82c-0043-4557-9217-509e59187edf"
      },
      "execution_count": 49,
      "outputs": [
        {
          "output_type": "stream",
          "name": "stdout",
          "text": [
            "('00a', '001', '2024.12.01.')\n",
            "('00b', '002', '2024.09.13.')\n",
            "('00c', '003', '2024.12.02.')\n",
            "('00d', '004', '2024.11.29.')\n",
            "('00e', '005', '2024.10.18.')\n"
          ]
        }
      ]
    },
    {
      "cell_type": "code",
      "source": [
        "for 리뷰 in 리뷰_data:\n",
        "    print(리뷰)"
      ],
      "metadata": {
        "colab": {
          "base_uri": "https://localhost:8080/"
        },
        "id": "CbKgerldgbjM",
        "outputId": "2ec77df4-a914-4a05-ae16-3cb4ffef9bd7"
      },
      "execution_count": 68,
      "outputs": [
        {
          "output_type": "stream",
          "name": "stdout",
          "text": [
            "('00001', 'abc', 4)\n",
            "('00002', 'honey', 4.5)\n",
            "('00003', 'free', 5)\n",
            "('00004', 'IOT', 3.5)\n",
            "('00005', 'poloc', 4)\n"
          ]
        }
      ]
    },
    {
      "cell_type": "code",
      "source": [
        "for 제조업체 in 제조업체_data:\n",
        "    print(제조업체)"
      ],
      "metadata": {
        "colab": {
          "base_uri": "https://localhost:8080/"
        },
        "id": "xVqp4KCIe_Wy",
        "outputId": "13787803-e7d9-4ded-81c9-9a467f79dda9"
      },
      "execution_count": 51,
      "outputs": [
        {
          "output_type": "stream",
          "name": "stdout",
          "text": [
            "('northface', '010-1234-****', '서울 중구 남대문로 81')\n",
            "('adidas', '010-2397-****', '서울 중구 소공로 63 신세계백화점')\n",
            "('NIKE', '010-1975-****', '서울 중구 퇴계로 77')\n",
            "('1989', '010-0735-****', '서울 종로구 수표로 28길')\n",
            "('탭탭', '010-6193-****', '서울 강남구 선릉로')\n"
          ]
        }
      ]
    },
    {
      "cell_type": "code",
      "source": [
        "#사용자 테이블에서 사용자ID 검색\n",
        "cursor.execute('SELECT 사용자ID FROM 사용자;')\n",
        "user_ids = cursor.fetchall()"
      ],
      "metadata": {
        "id": "i8rs_tI1e_LY"
      },
      "execution_count": 55,
      "outputs": []
    },
    {
      "cell_type": "code",
      "source": [
        "print(\"사용자 테이블(사용자ID)\")\n",
        "for user_id in user_ids:\n",
        "    print(user_id[0])"
      ],
      "metadata": {
        "colab": {
          "base_uri": "https://localhost:8080/"
        },
        "id": "WbsljGO5gtfL",
        "outputId": "2d545e61-15fa-4853-c387-feadc4dc4143"
      },
      "execution_count": 60,
      "outputs": [
        {
          "output_type": "stream",
          "name": "stdout",
          "text": [
            "사용자 테이블(사용자ID)\n",
            "IOT\n",
            "abc\n",
            "free\n",
            "honey\n",
            "poloc\n"
          ]
        }
      ]
    },
    {
      "cell_type": "code",
      "source": [
        "# 리뷰 테이블에 새로운 데이터 삽입\n",
        "cursor.execute(\"INSERT INTO 리뷰 (리뷰번호, 작성자, 평점) VALUES ('00006', 'jinmo', 5)\")"
      ],
      "metadata": {
        "colab": {
          "base_uri": "https://localhost:8080/"
        },
        "id": "u7G-cFfGgt-S",
        "outputId": "51b58d7f-cf2a-4169-fba2-e2198e0de090"
      },
      "execution_count": 74,
      "outputs": [
        {
          "output_type": "execute_result",
          "data": {
            "text/plain": [
              "<sqlite3.Cursor at 0x7a5f405cb940>"
            ]
          },
          "metadata": {},
          "execution_count": 74
        }
      ]
    },
    {
      "cell_type": "code",
      "source": [
        "cursor.execute(\"SELECT * FROM 리뷰\")\n",
        "rows = cursor.fetchall()\n",
        "for row in rows:\n",
        "    print(row)"
      ],
      "metadata": {
        "colab": {
          "base_uri": "https://localhost:8080/"
        },
        "id": "wv39KzVchJv5",
        "outputId": "0e4f0de7-79d1-4cde-bd73-5ca39d087f14"
      },
      "execution_count": 75,
      "outputs": [
        {
          "output_type": "stream",
          "name": "stdout",
          "text": [
            "('00001', 'abc', 4)\n",
            "('00002', 'honey', 4.5)\n",
            "('00003', 'free', 5)\n",
            "('00004', 'IOT', 3.5)\n",
            "('00005', 'poloc', 4)\n",
            "('00006', 'jinmo', 5)\n"
          ]
        }
      ]
    }
  ]
}